{
 "cells": [
  {
   "cell_type": "code",
   "execution_count": 1,
   "id": "fbcebf39",
   "metadata": {},
   "outputs": [],
   "source": [
    "import numpy as np\n",
    "import faiss\n",
    "import mysql.connector\n",
    "from sentence_transformers import SentenceTransformer"
   ]
  },
  {
   "cell_type": "markdown",
   "id": "5cf42537",
   "metadata": {},
   "source": [
    "# Connection to MySQL"
   ]
  },
  {
   "cell_type": "code",
   "execution_count": 4,
   "id": "1bc0284a",
   "metadata": {},
   "outputs": [],
   "source": [
    "conn = mysql.connector.connect(host = \"localhost\", user = \"root\", password=\"\", database=\"movie\")\n",
    "cursor = conn.cursor()"
   ]
  },
  {
   "cell_type": "markdown",
   "id": "3fced8f7",
   "metadata": {},
   "source": [
    "# Load Sentence-BERT model\n"
   ]
  },
  {
   "cell_type": "code",
   "execution_count": 5,
   "id": "c678d5d7",
   "metadata": {},
   "outputs": [],
   "source": [
    "embedding_model = SentenceTransformer(\"all-MiniLM-L6-v2\")"
   ]
  },
  {
   "cell_type": "markdown",
   "id": "4f5430c2",
   "metadata": {},
   "source": [
    "# Loading movies with description"
   ]
  },
  {
   "cell_type": "code",
   "execution_count": 6,
   "id": "4b35452d",
   "metadata": {},
   "outputs": [],
   "source": [
    "movies = [\n",
    "    (\"Toy Story\", \"Adventure, Animation, Children, Comedy, Fantasy\"),\n",
    "    (\"Jumanji\", \"Adventure, Children, Fantasy\"),\n",
    "    (\"Grumpier Old Men\", \"Comedy, Romance\"),\n",
    "    (\"Waiting to Exhale\", \"Comedy, Drama, Romance\"),\n",
    "    (\"Father of the Bride Part II\", \"Comedy\"),\n",
    "    (\"Heat\", \"Action, Crime, Thriller\"),\n",
    "    (\"Sabrina\", \"Comedy, Romance\"),\n",
    "    (\"Tom and Huck\", \"Adventure, Children\"),\n",
    "    (\"Sudden Death\", \"Action\"),\n",
    "    (\"GoldenEye\", \"Action, Adventure, Thriller\"),\n",
    "    (\"The American President\", \"Comedy, Drama, Romance\"),\n",
    "    (\"Dracula: Dead and Loving It\", \"Comedy, Horror\"),\n",
    "    (\"Balto\", \"Adventure, Animation, Children\"),\n",
    "    (\"Nixon\", \"Drama\"),\n",
    "    (\"Cutthroat Island\", \"Action, Adventure, Romance\"),\n",
    "    (\"Casino\", \"Crime, Drama\"),\n",
    "    (\"Sense and Sensibility\", \"Drama, Romance\"),\n",
    "    (\"Four Rooms\", \"Comedy\"),\n",
    "    (\"Ace Ventura: When Nature Calls\", \"Comedy\"),\n",
    "    (\"Money Train\", \"Action, Comedy, Crime, Drama, Thriller\"),\n",
    "    (\"Get Shorty\", \"Comedy, Crime, Thriller\"),\n",
    "    (\"Copycat\", \"Crime, Drama, Horror, Mystery, Thriller\"),\n",
    "    (\"Assassins\", \"Action, Crime, Thriller\"),\n",
    "    (\"Powder\", \"Drama, Sci-Fi\"),\n",
    "    (\"Leaving Las Vegas\", \"Drama, Romance\"),\n",
    "    (\"Othello\", \"Drama\"),\n",
    "    (\"Now and Then\", \"Children, Drama\"),\n",
    "    (\"Persuasion\", \"Drama, Romance\"),\n",
    "    (\"The City of Lost Children\", \"Adventure, Drama, Fantasy, Mystery, Sci-Fi\"),\n",
    "    (\"Shanghai Triad\", \"Crime, Drama\"),\n",
    "    (\"Dangerous Minds\", \"Drama\"),\n",
    "    (\"Twelve Monkeys\", \"Mystery, Sci-Fi, Thriller\"),\n",
    "    (\"Wings of Courage\", \"Adventure, Romance, IMAX\"),\n",
    "    (\"Babe\", \"Children, Drama\"),\n",
    "    (\"Carrington\", \"Drama, Romance\"),\n",
    "    (\"Dead Man Walking\", \"Crime, Drama\"),\n",
    "    (\"Across the Sea of Time\", \"Documentary, IMAX\"),\n",
    "    (\"It Takes Two\", \"Children, Comedy\"),\n",
    "    (\"Clueless\", \"Comedy, Romance\"),\n",
    "    (\"Cry, the Beloved Country\", \"Drama\"),\n",
    "    (\"Richard III\", \"Drama, War\"),\n",
    "    (\"Dead Presidents\", \"Action, Crime, Drama\"),\n",
    "    (\"Restoration\", \"Drama\"),\n",
    "    (\"Mortal Kombat\", \"Action, Adventure, Fantasy\"),\n",
    "    (\"To Die For\", \"Comedy, Drama, Thriller\"),\n",
    "    (\"How to Make an American Quilt\", \"Drama, Romance\"),\n",
    "    (\"Seven\", \"Mystery, Thriller\"),\n",
    "    (\"Pocahontas\", \"Animation, Children, Drama, Musical, Romance\"),\n",
    "    (\"When Night Is Falling\", \"Drama, Romance\"),\n",
    "    (\"The Usual Suspects\", \"Crime, Mystery, Thriller\"),\n",
    "    (\"Guardian Angel\", \"Action, Drama, Thriller\"),\n",
    "    (\"Mighty Aphrodite\", \"Comedy, Drama, Romance\"),\n",
    "    (\"Lamerica\", \"Adventure, Drama\"),\n",
    "    (\"The Big Green\", \"Children, Comedy\"),\n",
    "]"
   ]
  },
  {
   "cell_type": "markdown",
   "id": "ed0d3eaf",
   "metadata": {},
   "source": [
    "# Inserting movies and description to the SQL Table"
   ]
  },
  {
   "cell_type": "code",
   "execution_count": 8,
   "id": "cd40ff53",
   "metadata": {},
   "outputs": [
    {
     "name": "stdout",
     "output_type": "stream",
     "text": [
      "✅ Movies with embeddings inserted into the database.\n"
     ]
    }
   ],
   "source": [
    "for name, description in movies:\n",
    "    # Combine name + description for embedding\n",
    "    text = name + \" \" + description\n",
    "    embedding = embedding_model.encode([text])[0].tobytes()  # Convert embedding to bytes\n",
    "    cursor.execute(\n",
    "        \"INSERT INTO movie(Movies, Description, Embeddings) VALUES (%s, %s, %s)\",\n",
    "        (name, description, embedding)\n",
    "    )\n",
    "conn.commit()\n",
    "print(\"✅ Movies with embeddings inserted into the database.\")"
   ]
  },
  {
   "cell_type": "markdown",
   "id": "ab7ce7b1",
   "metadata": {},
   "source": [
    "# Convert the input text into embeddings"
   ]
  },
  {
   "cell_type": "code",
   "execution_count": 7,
   "id": "48c9e805",
   "metadata": {},
   "outputs": [],
   "source": [
    "def get_embedding(text):\n",
    "    \"\"\"Convert a text query to an embedding vector.\"\"\"\n",
    "    return embedding_model.encode([text])[0]"
   ]
  },
  {
   "cell_type": "code",
   "execution_count": 16,
   "id": "386950fd",
   "metadata": {},
   "outputs": [],
   "source": [
    "def search_movies(query, top_k=5):\n",
    "    \"\"\"Retrieve the most relevant movie names based on description similarity.\"\"\"\n",
    "    # Fetch movies and embeddings from the database\n",
    "    cursor.execute(\"SELECT Movies, Description, Embeddings FROM movie\")\n",
    "    movies = cursor.fetchall()\n",
    "\n",
    "    # Load stored embeddings\n",
    "    movie_data, movie_vectors = [], []\n",
    "    for movie, description, embedding in movies:\n",
    "        try:\n",
    "            movie_data.append(movie)  # Only store movie names\n",
    "            movie_vectors.append(np.frombuffer(embedding, dtype=np.float32))  # Convert embeddings\n",
    "        except TypeError:\n",
    "            print(f\"Invalid embedding for movie: {movie}. Skipping...\")\n",
    "\n",
    "    if not movie_vectors:\n",
    "        return \"No movies found.\"  # Handle empty database case\n",
    "\n",
    "    # Create a FAISS index\n",
    "    embedding_dim = len(movie_vectors[0])\n",
    "    index = faiss.IndexFlatL2(embedding_dim)  # L2 distance for similarity\n",
    "    index.add(np.array(movie_vectors))  # Add movie vectors\n",
    "\n",
    "    # Convert query description into embedding\n",
    "    query_embedding = get_embedding(query)  # Encode the query description\n",
    "\n",
    "    # Search for top-k movies\n",
    "    distances, indices = index.search(np.array([query_embedding]), top_k)\n",
    "\n",
    "    # Gather movie names based on indices\n",
    "    results = [movie_data[idx] for idx in indices[0] if idx < len(movie_data)]\n",
    "    return results\n"
   ]
  },
  {
   "cell_type": "code",
   "execution_count": 17,
   "id": "2bb35d53",
   "metadata": {},
   "outputs": [
    {
     "name": "stdout",
     "output_type": "stream",
     "text": [
      "🔎 Search Results:\n",
      "1. Copycat\n",
      "2. Seven\n",
      "3. Dracula: Dead and Loving It\n",
      "4. The Usual Suspects\n",
      "5. Heat\n"
     ]
    }
   ],
   "source": [
    "new_text = input(\"Enter a movie description: \")  \n",
    "results = search_movies(new_text)  \n",
    "\n",
    "print(\"🔎 Search Results:\")\n",
    "if results:\n",
    "    for i, name in enumerate(results, 1):\n",
    "        print(f\"{i}. {name}\")\n",
    "else:\n",
    "    print(\"No matching movies found.\")"
   ]
  },
  {
   "cell_type": "code",
   "execution_count": null,
   "id": "03ef1f2a",
   "metadata": {},
   "outputs": [],
   "source": []
  }
 ],
 "metadata": {
  "kernelspec": {
   "display_name": "Python 3",
   "language": "python",
   "name": "python3"
  },
  "language_info": {
   "codemirror_mode": {
    "name": "ipython",
    "version": 3
   },
   "file_extension": ".py",
   "mimetype": "text/x-python",
   "name": "python",
   "nbconvert_exporter": "python",
   "pygments_lexer": "ipython3",
   "version": "3.13.2"
  }
 },
 "nbformat": 4,
 "nbformat_minor": 5
}
